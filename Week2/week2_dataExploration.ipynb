{
 "cells": [
  {
   "cell_type": "markdown",
   "id": "00909f28-d19a-4488-9308-ee878075fa74",
   "metadata": {},
   "source": [
    "# week 2 data exploration \n",
    "## Mia Yancich"
   ]
  },
  {
   "cell_type": "markdown",
   "id": "4923033d-7d73-4af3-b1ad-c0afa49cf52f",
   "metadata": {},
   "source": [
    "Purpose of this assignment is to work with GIS data[https://geohub.lacity.org/]"
   ]
  },
  {
   "cell_type": "code",
   "execution_count": 1,
   "id": "c8ea5105-0411-4a9f-abbb-7fafcac2f6ed",
   "metadata": {},
   "outputs": [
    {
     "name": "stdout",
     "output_type": "stream",
     "text": [
      "Upload to Github\n"
     ]
    }
   ],
   "source": [
    "#print statement\n",
    "print('Upload to Github')"
   ]
  },
  {
   "cell_type": "markdown",
   "id": "c96054ac-1764-464d-9c08-6ec105ff8d70",
   "metadata": {},
   "source": [
    "Testing "
   ]
  }
 ],
 "metadata": {
  "kernelspec": {
   "display_name": "Python 3 (ipykernel)",
   "language": "python",
   "name": "python3"
  },
  "language_info": {
   "codemirror_mode": {
    "name": "ipython",
    "version": 3
   },
   "file_extension": ".py",
   "mimetype": "text/x-python",
   "name": "python",
   "nbconvert_exporter": "python",
   "pygments_lexer": "ipython3",
   "version": "3.11.9"
  }
 },
 "nbformat": 4,
 "nbformat_minor": 5
}
