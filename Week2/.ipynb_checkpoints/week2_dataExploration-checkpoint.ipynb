{
 "cells": [
  {
   "cell_type": "markdown",
   "id": "00909f28-d19a-4488-9308-ee878075fa74",
   "metadata": {},
   "source": [
    "# Week 2 Data Exploration \n",
    "### Mia Yancich\n",
    "\n",
    "January 17, 2024\n"
   ]
  },
  {
   "cell_type": "markdown",
   "id": "4923033d-7d73-4af3-b1ad-c0afa49cf52f",
   "metadata": {},
   "source": [
    "The purpose of this assignment is to work with [GIS data](https://data.lacounty.gov/pages/emergency) from the Damage Inspection (DINS) database for documenting structures damaged and destroyed by wildland 2025 Palisades fire. "
   ]
  },
  {
   "cell_type": "code",
   "execution_count": 1,
   "id": "c8ea5105-0411-4a9f-abbb-7fafcac2f6ed",
   "metadata": {},
   "outputs": [
    {
     "name": "stdout",
     "output_type": "stream",
     "text": [
      "First HW coding assigment, yippee\n"
     ]
    }
   ],
   "source": [
    "#print statement\n",
    "print('First HW coding assigment, yippee')"
   ]
  },
  {
   "cell_type": "code",
   "execution_count": 2,
   "id": "a9cbf6ea-ef6e-4882-96cf-9ecdfd963beb",
   "metadata": {},
   "outputs": [],
   "source": [
    "import pandas as pd\n",
    "import geopandas as gpd"
   ]
  },
  {
   "cell_type": "code",
   "execution_count": 3,
   "id": "30eeb98e-dfe2-41f4-a0a0-8fa3264fea46",
   "metadata": {},
   "outputs": [],
   "source": [
    "# read and add geojson to notebook\n",
    "url = 'https://hub.arcgis.com/api/v3/datasets/c336759e45764c45861a1e62c4c5e2db_0/downloads/data?format=geojson&spatialRefId=4326&where=1%3D1'\n",
    "palisades = gpd.read_file(url)"
   ]
  },
  {
   "cell_type": "code",
   "execution_count": 4,
   "id": "a667080d-a158-4fec-bc86-25b000a9d207",
   "metadata": {},
   "outputs": [
    {
     "data": {
      "text/plain": [
       "geopandas.geodataframe.GeoDataFrame"
      ]
     },
     "execution_count": 4,
     "metadata": {},
     "output_type": "execute_result"
    }
   ],
   "source": [
    "# what's the data type?\n",
    "type(palisades)"
   ]
  },
  {
   "cell_type": "markdown",
   "id": "29cbaff7-38b5-4eb6-a8b2-d82e21ba7138",
   "metadata": {},
   "source": [
    "The data type is a pandas data frame"
   ]
  },
  {
   "cell_type": "markdown",
   "id": "c3142261-9207-413f-8902-a50509849368",
   "metadata": {},
   "source": [
    "Next, we want to find out basic information about the Palisades Dataframe using the method .info to find out index dtype and columns, non-null values and memory usage. We can also use .shape to look at the dimensionality. "
   ]
  },
  {
   "cell_type": "code",
   "execution_count": 5,
   "id": "f8c59afa-c7bc-40a2-afaa-459e9af68509",
   "metadata": {},
   "outputs": [
    {
     "name": "stdout",
     "output_type": "stream",
     "text": [
      "<class 'geopandas.geodataframe.GeoDataFrame'>\n",
      "RangeIndex: 8495 entries, 0 to 8494\n",
      "Data columns (total 5 columns):\n",
      " #   Column         Non-Null Count  Dtype   \n",
      "---  ------         --------------  -----   \n",
      " 0   OBJECTID       8495 non-null   int32   \n",
      " 1   GLOBALID       8495 non-null   object  \n",
      " 2   DAMAGE         8495 non-null   object  \n",
      " 3   STRUCTURETYPE  8495 non-null   object  \n",
      " 4   geometry       8495 non-null   geometry\n",
      "dtypes: geometry(1), int32(1), object(3)\n",
      "memory usage: 298.8+ KB\n"
     ]
    }
   ],
   "source": [
    "palisades.info()"
   ]
  },
  {
   "cell_type": "code",
   "execution_count": 6,
   "id": "9868460b-d696-4a60-a1d1-560d99ab6884",
   "metadata": {},
   "outputs": [
    {
     "data": {
      "text/plain": [
       "(8495, 5)"
      ]
     },
     "execution_count": 6,
     "metadata": {},
     "output_type": "execute_result"
    }
   ],
   "source": [
    "#Return a tuple representing the dimensionality of the DataFrame\n",
    "palisades.shape"
   ]
  },
  {
   "cell_type": "markdown",
   "id": "f5a6ab4f-cd0c-4701-a7bc-a171e4186673",
   "metadata": {},
   "source": [
    "The dataset contains 8,495 rows and 5 columns, meaning there are 8,000+ recorded strucutres and 5 types of data collected on each structures, including their objectid (within the dataset), global ID, Damage, Structure Tyoe, and Geometry (or coordinates). There are no null values (meaning no columns containing empty data) and the dataset uses 298 KB of memory."
   ]
  },
  {
   "cell_type": "markdown",
   "id": "6a7ff1f6-ee44-482a-ac04-052a4e58ae85",
   "metadata": {},
   "source": [
    "The code below allows use to look into the first 10 rows within the dataset, which includes the first row containing header names."
   ]
  },
  {
   "cell_type": "code",
   "execution_count": 7,
   "id": "62f2dbed-0942-45f3-9dd4-e785870b6db2",
   "metadata": {},
   "outputs": [
    {
     "data": {
      "text/html": [
       "<div>\n",
       "<style scoped>\n",
       "    .dataframe tbody tr th:only-of-type {\n",
       "        vertical-align: middle;\n",
       "    }\n",
       "\n",
       "    .dataframe tbody tr th {\n",
       "        vertical-align: top;\n",
       "    }\n",
       "\n",
       "    .dataframe thead th {\n",
       "        text-align: right;\n",
       "    }\n",
       "</style>\n",
       "<table border=\"1\" class=\"dataframe\">\n",
       "  <thead>\n",
       "    <tr style=\"text-align: right;\">\n",
       "      <th></th>\n",
       "      <th>OBJECTID</th>\n",
       "      <th>GLOBALID</th>\n",
       "      <th>DAMAGE</th>\n",
       "      <th>STRUCTURETYPE</th>\n",
       "      <th>geometry</th>\n",
       "    </tr>\n",
       "  </thead>\n",
       "  <tbody>\n",
       "    <tr>\n",
       "      <th>0</th>\n",
       "      <td>1</td>\n",
       "      <td>749289c2-99a6-4d08-a870-16a6e499021e</td>\n",
       "      <td>Destroyed (&gt;50%)</td>\n",
       "      <td>Single Family Residence Multi Story</td>\n",
       "      <td>POINT (-118.65963 34.03913)</td>\n",
       "    </tr>\n",
       "    <tr>\n",
       "      <th>1</th>\n",
       "      <td>2</td>\n",
       "      <td>12de8e53-d11c-40c4-b628-d861d62cc061</td>\n",
       "      <td>Destroyed (&gt;50%)</td>\n",
       "      <td>Single Family Residence Multi Story</td>\n",
       "      <td>POINT (-118.65949 34.03909)</td>\n",
       "    </tr>\n",
       "    <tr>\n",
       "      <th>2</th>\n",
       "      <td>3</td>\n",
       "      <td>2236aeb8-d6d8-4c74-a662-292331a35ea2</td>\n",
       "      <td>No Damage</td>\n",
       "      <td>Utility Misc Structure</td>\n",
       "      <td>POINT (-118.65927 34.0391)</td>\n",
       "    </tr>\n",
       "    <tr>\n",
       "      <th>3</th>\n",
       "      <td>4</td>\n",
       "      <td>3d521301-742c-4009-8230-cfff2f4b5125</td>\n",
       "      <td>Destroyed (&gt;50%)</td>\n",
       "      <td>Multi Family Residence Multi Story</td>\n",
       "      <td>POINT (-118.65761 34.0394)</td>\n",
       "    </tr>\n",
       "    <tr>\n",
       "      <th>4</th>\n",
       "      <td>5</td>\n",
       "      <td>11e11323-9a48-41c7-9d22-12ae0f054089</td>\n",
       "      <td>Destroyed (&gt;50%)</td>\n",
       "      <td>Single Family Residence Single Story</td>\n",
       "      <td>POINT (-118.65663 34.03881)</td>\n",
       "    </tr>\n",
       "    <tr>\n",
       "      <th>5</th>\n",
       "      <td>6</td>\n",
       "      <td>0023c6d1-86f7-44bb-afaa-00e36c6a9538</td>\n",
       "      <td>Destroyed (&gt;50%)</td>\n",
       "      <td>Single Family Residence Single Story</td>\n",
       "      <td>POINT (-118.65606 34.03873)</td>\n",
       "    </tr>\n",
       "    <tr>\n",
       "      <th>6</th>\n",
       "      <td>7</td>\n",
       "      <td>1fe019cc-766f-4bb2-bf36-c35a2695a19f</td>\n",
       "      <td>Destroyed (&gt;50%)</td>\n",
       "      <td>Utility Misc Structure</td>\n",
       "      <td>POINT (-118.65621 34.03882)</td>\n",
       "    </tr>\n",
       "    <tr>\n",
       "      <th>7</th>\n",
       "      <td>8</td>\n",
       "      <td>8f94c955-3df8-4b6e-a187-ce6dd2d29b0d</td>\n",
       "      <td>Destroyed (&gt;50%)</td>\n",
       "      <td>Single Family Residence Multi Story</td>\n",
       "      <td>POINT (-118.65571 34.03873)</td>\n",
       "    </tr>\n",
       "    <tr>\n",
       "      <th>8</th>\n",
       "      <td>9</td>\n",
       "      <td>e39d9855-ffab-4124-afeb-b12e4f622040</td>\n",
       "      <td>Destroyed (&gt;50%)</td>\n",
       "      <td>Single Family Residence Multi Story</td>\n",
       "      <td>POINT (-118.65561 34.03869)</td>\n",
       "    </tr>\n",
       "    <tr>\n",
       "      <th>9</th>\n",
       "      <td>10</td>\n",
       "      <td>5f680d02-e254-477c-9ea9-7332b6592b08</td>\n",
       "      <td>Destroyed (&gt;50%)</td>\n",
       "      <td>Single Family Residence Single Story</td>\n",
       "      <td>POINT (-118.65548 34.03865)</td>\n",
       "    </tr>\n",
       "  </tbody>\n",
       "</table>\n",
       "</div>"
      ],
      "text/plain": [
       "   OBJECTID                              GLOBALID            DAMAGE  \\\n",
       "0         1  749289c2-99a6-4d08-a870-16a6e499021e  Destroyed (>50%)   \n",
       "1         2  12de8e53-d11c-40c4-b628-d861d62cc061  Destroyed (>50%)   \n",
       "2         3  2236aeb8-d6d8-4c74-a662-292331a35ea2         No Damage   \n",
       "3         4  3d521301-742c-4009-8230-cfff2f4b5125  Destroyed (>50%)   \n",
       "4         5  11e11323-9a48-41c7-9d22-12ae0f054089  Destroyed (>50%)   \n",
       "5         6  0023c6d1-86f7-44bb-afaa-00e36c6a9538  Destroyed (>50%)   \n",
       "6         7  1fe019cc-766f-4bb2-bf36-c35a2695a19f  Destroyed (>50%)   \n",
       "7         8  8f94c955-3df8-4b6e-a187-ce6dd2d29b0d  Destroyed (>50%)   \n",
       "8         9  e39d9855-ffab-4124-afeb-b12e4f622040  Destroyed (>50%)   \n",
       "9        10  5f680d02-e254-477c-9ea9-7332b6592b08  Destroyed (>50%)   \n",
       "\n",
       "                          STRUCTURETYPE                     geometry  \n",
       "0   Single Family Residence Multi Story  POINT (-118.65963 34.03913)  \n",
       "1   Single Family Residence Multi Story  POINT (-118.65949 34.03909)  \n",
       "2                Utility Misc Structure   POINT (-118.65927 34.0391)  \n",
       "3    Multi Family Residence Multi Story   POINT (-118.65761 34.0394)  \n",
       "4  Single Family Residence Single Story  POINT (-118.65663 34.03881)  \n",
       "5  Single Family Residence Single Story  POINT (-118.65606 34.03873)  \n",
       "6                Utility Misc Structure  POINT (-118.65621 34.03882)  \n",
       "7   Single Family Residence Multi Story  POINT (-118.65571 34.03873)  \n",
       "8   Single Family Residence Multi Story  POINT (-118.65561 34.03869)  \n",
       "9  Single Family Residence Single Story  POINT (-118.65548 34.03865)  "
      ]
     },
     "execution_count": 7,
     "metadata": {},
     "output_type": "execute_result"
    }
   ],
   "source": [
    "palisades.head(10)"
   ]
  },
  {
   "cell_type": "code",
   "execution_count": 8,
   "id": "94933d34-cb17-46fd-aaf8-3787238c1ea8",
   "metadata": {},
   "outputs": [],
   "source": [
    "#change the column names to lowercase for ease \n",
    "palisades.columns = palisades.columns.str.lower()"
   ]
  },
  {
   "cell_type": "markdown",
   "id": "3ef3677e-3e1d-45e5-ae01-021ee09eb4ba",
   "metadata": {},
   "source": [
    "The code belows returns a Series containing the frequency of each distinct row in the damage column. It will reveal how information on how damages were categorized and how many structures fall within each category. "
   ]
  },
  {
   "cell_type": "code",
   "execution_count": 9,
   "id": "728ebe0f-108f-48ca-af0e-b0a280d9185a",
   "metadata": {},
   "outputs": [
    {
     "data": {
      "text/html": [
       "<div>\n",
       "<style scoped>\n",
       "    .dataframe tbody tr th:only-of-type {\n",
       "        vertical-align: middle;\n",
       "    }\n",
       "\n",
       "    .dataframe tbody tr th {\n",
       "        vertical-align: top;\n",
       "    }\n",
       "\n",
       "    .dataframe thead th {\n",
       "        text-align: right;\n",
       "    }\n",
       "</style>\n",
       "<table border=\"1\" class=\"dataframe\">\n",
       "  <thead>\n",
       "    <tr style=\"text-align: right;\">\n",
       "      <th></th>\n",
       "      <th>damage</th>\n",
       "      <th>count</th>\n",
       "    </tr>\n",
       "  </thead>\n",
       "  <tbody>\n",
       "    <tr>\n",
       "      <th>0</th>\n",
       "      <td>Destroyed (&gt;50%)</td>\n",
       "      <td>4993</td>\n",
       "    </tr>\n",
       "    <tr>\n",
       "      <th>1</th>\n",
       "      <td>No Damage</td>\n",
       "      <td>2795</td>\n",
       "    </tr>\n",
       "    <tr>\n",
       "      <th>2</th>\n",
       "      <td>Affected (1-9%)</td>\n",
       "      <td>508</td>\n",
       "    </tr>\n",
       "    <tr>\n",
       "      <th>3</th>\n",
       "      <td>Minor (10-25%)</td>\n",
       "      <td>136</td>\n",
       "    </tr>\n",
       "    <tr>\n",
       "      <th>4</th>\n",
       "      <td>Major (26-50%)</td>\n",
       "      <td>63</td>\n",
       "    </tr>\n",
       "  </tbody>\n",
       "</table>\n",
       "</div>"
      ],
      "text/plain": [
       "             damage  count\n",
       "0  Destroyed (>50%)   4993\n",
       "1         No Damage   2795\n",
       "2   Affected (1-9%)    508\n",
       "3    Minor (10-25%)    136\n",
       "4    Major (26-50%)     63"
      ]
     },
     "execution_count": 9,
     "metadata": {},
     "output_type": "execute_result"
    }
   ],
   "source": [
    "#set as a variable to see value counts \n",
    "damages = palisades['damage']\n",
    "damages_count = damages.value_counts()\n",
    "#reset index to convert panda series into a dataframe  \n",
    "#makes easier to read\n",
    "damages_count.reset_index()"
   ]
  },
  {
   "cell_type": "markdown",
   "id": "9a4b29b4-be40-4f4d-80c5-98c6f0e9bbe1",
   "metadata": {},
   "source": [
    "As we can see, over <b> half (4,993) of all of the 8,495 structures recorded are destroyed </b> while just about a third have no damage. The rest of the structures are either only affected, or have minor or major damages. "
   ]
  },
  {
   "cell_type": "markdown",
   "id": "31b54d6b-648b-47b5-a2e7-3bd44814da21",
   "metadata": {},
   "source": [
    "Next, we will run a query on the data that filters structures to compare damages between destroyed multifamily homes and destroyed single family homes. First, lets see how many different structure types there are."
   ]
  },
  {
   "cell_type": "code",
   "execution_count": 10,
   "id": "bcd3326e-c18b-4b07-b948-8db7309cc697",
   "metadata": {
    "scrolled": true
   },
   "outputs": [
    {
     "data": {
      "text/plain": [
       "structuretype\n",
       "Single Family Residence Multi Story     3846\n",
       "Single Family Residence Single Story    2801\n",
       "Utility Misc Structure                  1058\n",
       "Multi Family Residence Multi Story       313\n",
       "Commercial Building Single Story         132\n",
       "School                                    97\n",
       "Mobile Home Double Wide                   57\n",
       "Mobile Home Single Wide                   57\n",
       "Commercial Building Multi Story           51\n",
       "Infrastructure                            35\n",
       "Multi Family Residence Single Story       19\n",
       "Church                                    13\n",
       "Motor Home                                 8\n",
       "Mixed Commercial/Residential               6\n",
       "Mobile Home Triple Wide                    2\n",
       "Name: count, dtype: int64"
      ]
     },
     "execution_count": 10,
     "metadata": {},
     "output_type": "execute_result"
    }
   ],
   "source": [
    "palisades.structuretype.value_counts()"
   ]
  },
  {
   "cell_type": "markdown",
   "id": "61885450-2199-492d-825c-d39cc81fe783",
   "metadata": {},
   "source": [
    "We want to run a query that will look at destroyed single family homes so we create a conditional statement that finds all rows that are destroyed and either a single family residence with a multi story or single story. For the purposes of this analysis, we will consider all homes that are single family. We will then run the same query for the multifamily homes. "
   ]
  },
  {
   "cell_type": "code",
   "execution_count": 11,
   "id": "2d2fa074-d653-4222-9a91-0b663ce5f343",
   "metadata": {},
   "outputs": [
    {
     "data": {
      "text/html": [
       "<div>\n",
       "<style scoped>\n",
       "    .dataframe tbody tr th:only-of-type {\n",
       "        vertical-align: middle;\n",
       "    }\n",
       "\n",
       "    .dataframe tbody tr th {\n",
       "        vertical-align: top;\n",
       "    }\n",
       "\n",
       "    .dataframe thead th {\n",
       "        text-align: right;\n",
       "    }\n",
       "</style>\n",
       "<table border=\"1\" class=\"dataframe\">\n",
       "  <thead>\n",
       "    <tr style=\"text-align: right;\">\n",
       "      <th></th>\n",
       "      <th>objectid</th>\n",
       "      <th>globalid</th>\n",
       "      <th>damage</th>\n",
       "      <th>structuretype</th>\n",
       "      <th>geometry</th>\n",
       "    </tr>\n",
       "  </thead>\n",
       "  <tbody>\n",
       "    <tr>\n",
       "      <th>0</th>\n",
       "      <td>1</td>\n",
       "      <td>749289c2-99a6-4d08-a870-16a6e499021e</td>\n",
       "      <td>Destroyed (&gt;50%)</td>\n",
       "      <td>Single Family Residence Multi Story</td>\n",
       "      <td>POINT (-118.65963 34.03913)</td>\n",
       "    </tr>\n",
       "    <tr>\n",
       "      <th>1</th>\n",
       "      <td>2</td>\n",
       "      <td>12de8e53-d11c-40c4-b628-d861d62cc061</td>\n",
       "      <td>Destroyed (&gt;50%)</td>\n",
       "      <td>Single Family Residence Multi Story</td>\n",
       "      <td>POINT (-118.65949 34.03909)</td>\n",
       "    </tr>\n",
       "    <tr>\n",
       "      <th>4</th>\n",
       "      <td>5</td>\n",
       "      <td>11e11323-9a48-41c7-9d22-12ae0f054089</td>\n",
       "      <td>Destroyed (&gt;50%)</td>\n",
       "      <td>Single Family Residence Single Story</td>\n",
       "      <td>POINT (-118.65663 34.03881)</td>\n",
       "    </tr>\n",
       "    <tr>\n",
       "      <th>5</th>\n",
       "      <td>6</td>\n",
       "      <td>0023c6d1-86f7-44bb-afaa-00e36c6a9538</td>\n",
       "      <td>Destroyed (&gt;50%)</td>\n",
       "      <td>Single Family Residence Single Story</td>\n",
       "      <td>POINT (-118.65606 34.03873)</td>\n",
       "    </tr>\n",
       "    <tr>\n",
       "      <th>7</th>\n",
       "      <td>8</td>\n",
       "      <td>8f94c955-3df8-4b6e-a187-ce6dd2d29b0d</td>\n",
       "      <td>Destroyed (&gt;50%)</td>\n",
       "      <td>Single Family Residence Multi Story</td>\n",
       "      <td>POINT (-118.65571 34.03873)</td>\n",
       "    </tr>\n",
       "    <tr>\n",
       "      <th>...</th>\n",
       "      <td>...</td>\n",
       "      <td>...</td>\n",
       "      <td>...</td>\n",
       "      <td>...</td>\n",
       "      <td>...</td>\n",
       "    </tr>\n",
       "    <tr>\n",
       "      <th>8479</th>\n",
       "      <td>10235</td>\n",
       "      <td>736141bb-5a5a-4bb4-977f-a73dcbde69be</td>\n",
       "      <td>Destroyed (&gt;50%)</td>\n",
       "      <td>Single Family Residence Single Story</td>\n",
       "      <td>POINT (-118.54605 34.04327)</td>\n",
       "    </tr>\n",
       "    <tr>\n",
       "      <th>8485</th>\n",
       "      <td>10274</td>\n",
       "      <td>a1668884-b53d-4fdf-88a6-572d18238f01</td>\n",
       "      <td>Destroyed (&gt;50%)</td>\n",
       "      <td>Single Family Residence Multi Story</td>\n",
       "      <td>POINT (-118.5239 34.05389)</td>\n",
       "    </tr>\n",
       "    <tr>\n",
       "      <th>8486</th>\n",
       "      <td>10275</td>\n",
       "      <td>68310fb2-41e5-4b44-8bb2-f2b55ba18c67</td>\n",
       "      <td>Destroyed (&gt;50%)</td>\n",
       "      <td>Single Family Residence Multi Story</td>\n",
       "      <td>POINT (-118.5241 34.05391)</td>\n",
       "    </tr>\n",
       "    <tr>\n",
       "      <th>8487</th>\n",
       "      <td>10276</td>\n",
       "      <td>a5f84683-eb45-4eb1-b0f0-217779d5dac3</td>\n",
       "      <td>Destroyed (&gt;50%)</td>\n",
       "      <td>Single Family Residence Multi Story</td>\n",
       "      <td>POINT (-118.52352 34.05382)</td>\n",
       "    </tr>\n",
       "    <tr>\n",
       "      <th>8488</th>\n",
       "      <td>10277</td>\n",
       "      <td>20de8c89-f8ae-4c01-9039-8101785d8081</td>\n",
       "      <td>Destroyed (&gt;50%)</td>\n",
       "      <td>Single Family Residence Single Story</td>\n",
       "      <td>POINT (-118.52342 34.0537)</td>\n",
       "    </tr>\n",
       "  </tbody>\n",
       "</table>\n",
       "<p>3910 rows × 5 columns</p>\n",
       "</div>"
      ],
      "text/plain": [
       "      objectid                              globalid            damage  \\\n",
       "0            1  749289c2-99a6-4d08-a870-16a6e499021e  Destroyed (>50%)   \n",
       "1            2  12de8e53-d11c-40c4-b628-d861d62cc061  Destroyed (>50%)   \n",
       "4            5  11e11323-9a48-41c7-9d22-12ae0f054089  Destroyed (>50%)   \n",
       "5            6  0023c6d1-86f7-44bb-afaa-00e36c6a9538  Destroyed (>50%)   \n",
       "7            8  8f94c955-3df8-4b6e-a187-ce6dd2d29b0d  Destroyed (>50%)   \n",
       "...        ...                                   ...               ...   \n",
       "8479     10235  736141bb-5a5a-4bb4-977f-a73dcbde69be  Destroyed (>50%)   \n",
       "8485     10274  a1668884-b53d-4fdf-88a6-572d18238f01  Destroyed (>50%)   \n",
       "8486     10275  68310fb2-41e5-4b44-8bb2-f2b55ba18c67  Destroyed (>50%)   \n",
       "8487     10276  a5f84683-eb45-4eb1-b0f0-217779d5dac3  Destroyed (>50%)   \n",
       "8488     10277  20de8c89-f8ae-4c01-9039-8101785d8081  Destroyed (>50%)   \n",
       "\n",
       "                             structuretype                     geometry  \n",
       "0      Single Family Residence Multi Story  POINT (-118.65963 34.03913)  \n",
       "1      Single Family Residence Multi Story  POINT (-118.65949 34.03909)  \n",
       "4     Single Family Residence Single Story  POINT (-118.65663 34.03881)  \n",
       "5     Single Family Residence Single Story  POINT (-118.65606 34.03873)  \n",
       "7      Single Family Residence Multi Story  POINT (-118.65571 34.03873)  \n",
       "...                                    ...                          ...  \n",
       "8479  Single Family Residence Single Story  POINT (-118.54605 34.04327)  \n",
       "8485   Single Family Residence Multi Story   POINT (-118.5239 34.05389)  \n",
       "8486   Single Family Residence Multi Story   POINT (-118.5241 34.05391)  \n",
       "8487   Single Family Residence Multi Story  POINT (-118.52352 34.05382)  \n",
       "8488  Single Family Residence Single Story   POINT (-118.52342 34.0537)  \n",
       "\n",
       "[3910 rows x 5 columns]"
      ]
     },
     "execution_count": 11,
     "metadata": {},
     "output_type": "execute_result"
    }
   ],
   "source": [
    "sfDestroyed = palisades.loc[(palisades['damage'] =='Destroyed (>50%)') \n",
    "            & ((palisades['structuretype'] == 'Single Family Residence Multi Story') | (palisades['structuretype'] == 'Single Family Residence Single Story') )]\n",
    "sfDestroyed"
   ]
  },
  {
   "cell_type": "code",
   "execution_count": 12,
   "id": "c6db591e-2c95-47d7-9601-866d46eeec82",
   "metadata": {},
   "outputs": [
    {
     "data": {
      "text/html": [
       "<div>\n",
       "<style scoped>\n",
       "    .dataframe tbody tr th:only-of-type {\n",
       "        vertical-align: middle;\n",
       "    }\n",
       "\n",
       "    .dataframe tbody tr th {\n",
       "        vertical-align: top;\n",
       "    }\n",
       "\n",
       "    .dataframe thead th {\n",
       "        text-align: right;\n",
       "    }\n",
       "</style>\n",
       "<table border=\"1\" class=\"dataframe\">\n",
       "  <thead>\n",
       "    <tr style=\"text-align: right;\">\n",
       "      <th></th>\n",
       "      <th>objectid</th>\n",
       "      <th>globalid</th>\n",
       "      <th>damage</th>\n",
       "      <th>structuretype</th>\n",
       "      <th>geometry</th>\n",
       "    </tr>\n",
       "  </thead>\n",
       "  <tbody>\n",
       "    <tr>\n",
       "      <th>3</th>\n",
       "      <td>4</td>\n",
       "      <td>3d521301-742c-4009-8230-cfff2f4b5125</td>\n",
       "      <td>Destroyed (&gt;50%)</td>\n",
       "      <td>Multi Family Residence Multi Story</td>\n",
       "      <td>POINT (-118.65761 34.0394)</td>\n",
       "    </tr>\n",
       "    <tr>\n",
       "      <th>1097</th>\n",
       "      <td>1128</td>\n",
       "      <td>b96682c9-a94c-4a7b-91f0-a6c277f12c0d</td>\n",
       "      <td>Destroyed (&gt;50%)</td>\n",
       "      <td>Multi Family Residence Single Story</td>\n",
       "      <td>POINT (-118.63726 34.03868)</td>\n",
       "    </tr>\n",
       "    <tr>\n",
       "      <th>1098</th>\n",
       "      <td>1129</td>\n",
       "      <td>c6eca64c-24a1-4375-9258-a458cef46904</td>\n",
       "      <td>Destroyed (&gt;50%)</td>\n",
       "      <td>Multi Family Residence Multi Story</td>\n",
       "      <td>POINT (-118.63712 34.03851)</td>\n",
       "    </tr>\n",
       "    <tr>\n",
       "      <th>1351</th>\n",
       "      <td>2058</td>\n",
       "      <td>e4d1f9e9-0ef1-42cd-8e1f-596a7a5bdb05</td>\n",
       "      <td>Destroyed (&gt;50%)</td>\n",
       "      <td>Multi Family Residence Multi Story</td>\n",
       "      <td>POINT (-118.57275 34.04313)</td>\n",
       "    </tr>\n",
       "    <tr>\n",
       "      <th>1610</th>\n",
       "      <td>2320</td>\n",
       "      <td>b09deb2a-baa6-4124-9c21-603235a704dc</td>\n",
       "      <td>Destroyed (&gt;50%)</td>\n",
       "      <td>Multi Family Residence Multi Story</td>\n",
       "      <td>POINT (-118.57082 34.04334)</td>\n",
       "    </tr>\n",
       "    <tr>\n",
       "      <th>...</th>\n",
       "      <td>...</td>\n",
       "      <td>...</td>\n",
       "      <td>...</td>\n",
       "      <td>...</td>\n",
       "      <td>...</td>\n",
       "    </tr>\n",
       "    <tr>\n",
       "      <th>7282</th>\n",
       "      <td>8404</td>\n",
       "      <td>4784a0b5-0639-4eb5-a56b-4639324953d0</td>\n",
       "      <td>Destroyed (&gt;50%)</td>\n",
       "      <td>Multi Family Residence Single Story</td>\n",
       "      <td>POINT (-118.53855 34.04822)</td>\n",
       "    </tr>\n",
       "    <tr>\n",
       "      <th>7284</th>\n",
       "      <td>8406</td>\n",
       "      <td>1279043b-a4cf-4b3d-86ec-dce22c7e5463</td>\n",
       "      <td>Destroyed (&gt;50%)</td>\n",
       "      <td>Multi Family Residence Single Story</td>\n",
       "      <td>POINT (-118.53871 34.04806)</td>\n",
       "    </tr>\n",
       "    <tr>\n",
       "      <th>7301</th>\n",
       "      <td>8423</td>\n",
       "      <td>acbd0e57-b257-4841-b04a-e053294fca55</td>\n",
       "      <td>Destroyed (&gt;50%)</td>\n",
       "      <td>Multi Family Residence Multi Story</td>\n",
       "      <td>POINT (-118.54352 34.04492)</td>\n",
       "    </tr>\n",
       "    <tr>\n",
       "      <th>7800</th>\n",
       "      <td>9131</td>\n",
       "      <td>a33d18b3-ac34-413c-a49b-e4bf4f7add4d</td>\n",
       "      <td>Destroyed (&gt;50%)</td>\n",
       "      <td>Multi Family Residence Single Story</td>\n",
       "      <td>POINT (-118.51797 34.04826)</td>\n",
       "    </tr>\n",
       "    <tr>\n",
       "      <th>7801</th>\n",
       "      <td>9132</td>\n",
       "      <td>2c76a34f-884b-4f5c-aaa1-3a85fcb26e2c</td>\n",
       "      <td>Destroyed (&gt;50%)</td>\n",
       "      <td>Multi Family Residence Single Story</td>\n",
       "      <td>POINT (-118.51794 34.04815)</td>\n",
       "    </tr>\n",
       "  </tbody>\n",
       "</table>\n",
       "<p>106 rows × 5 columns</p>\n",
       "</div>"
      ],
      "text/plain": [
       "      objectid                              globalid            damage  \\\n",
       "3            4  3d521301-742c-4009-8230-cfff2f4b5125  Destroyed (>50%)   \n",
       "1097      1128  b96682c9-a94c-4a7b-91f0-a6c277f12c0d  Destroyed (>50%)   \n",
       "1098      1129  c6eca64c-24a1-4375-9258-a458cef46904  Destroyed (>50%)   \n",
       "1351      2058  e4d1f9e9-0ef1-42cd-8e1f-596a7a5bdb05  Destroyed (>50%)   \n",
       "1610      2320  b09deb2a-baa6-4124-9c21-603235a704dc  Destroyed (>50%)   \n",
       "...        ...                                   ...               ...   \n",
       "7282      8404  4784a0b5-0639-4eb5-a56b-4639324953d0  Destroyed (>50%)   \n",
       "7284      8406  1279043b-a4cf-4b3d-86ec-dce22c7e5463  Destroyed (>50%)   \n",
       "7301      8423  acbd0e57-b257-4841-b04a-e053294fca55  Destroyed (>50%)   \n",
       "7800      9131  a33d18b3-ac34-413c-a49b-e4bf4f7add4d  Destroyed (>50%)   \n",
       "7801      9132  2c76a34f-884b-4f5c-aaa1-3a85fcb26e2c  Destroyed (>50%)   \n",
       "\n",
       "                            structuretype                     geometry  \n",
       "3      Multi Family Residence Multi Story   POINT (-118.65761 34.0394)  \n",
       "1097  Multi Family Residence Single Story  POINT (-118.63726 34.03868)  \n",
       "1098   Multi Family Residence Multi Story  POINT (-118.63712 34.03851)  \n",
       "1351   Multi Family Residence Multi Story  POINT (-118.57275 34.04313)  \n",
       "1610   Multi Family Residence Multi Story  POINT (-118.57082 34.04334)  \n",
       "...                                   ...                          ...  \n",
       "7282  Multi Family Residence Single Story  POINT (-118.53855 34.04822)  \n",
       "7284  Multi Family Residence Single Story  POINT (-118.53871 34.04806)  \n",
       "7301   Multi Family Residence Multi Story  POINT (-118.54352 34.04492)  \n",
       "7800  Multi Family Residence Single Story  POINT (-118.51797 34.04826)  \n",
       "7801  Multi Family Residence Single Story  POINT (-118.51794 34.04815)  \n",
       "\n",
       "[106 rows x 5 columns]"
      ]
     },
     "execution_count": 12,
     "metadata": {},
     "output_type": "execute_result"
    }
   ],
   "source": [
    "mfDestroyed = palisades.loc[(palisades['damage'] =='Destroyed (>50%)') \n",
    "            & ((palisades['structuretype'] == 'Multi Family Residence Multi Story') | (palisades['structuretype'] == 'Multi Family Residence Single Story') )]\n",
    "mfDestroyed"
   ]
  },
  {
   "cell_type": "markdown",
   "id": "fb8c9744-f8d9-48db-9105-84dbd201a4a4",
   "metadata": {},
   "source": [
    "We see there are 3910 single family homes that have been destroyed compared to only 106 multifamily homes. This makes sense given the Pacific Palisades has a large majority of single family homes."
   ]
  },
  {
   "cell_type": "markdown",
   "id": "5c2a38d7-9358-4b82-9065-629b7e6de9f4",
   "metadata": {},
   "source": [
    "Lastly, we plot the data on a graph to get an understanding of the data spatially using the plot function. This helps us to see the fires path and the location of each building recorded un the dataset. "
   ]
  },
  {
   "cell_type": "code",
   "execution_count": 13,
   "id": "1ca6c6dd-a836-4a18-9517-9b943519c6c4",
   "metadata": {},
   "outputs": [
    {
     "data": {
      "text/plain": [
       "<Axes: >"
      ]
     },
     "execution_count": 13,
     "metadata": {},
     "output_type": "execute_result"
    },
    {
     "data": {
      "image/png": "[encoded data removed]",
      "text/plain": [
       "<Figure size 640x480 with 1 Axes>"
      ]
     },
     "metadata": {},
     "output_type": "display_data"
    }
   ],
   "source": [
    "palisades.plot()"
   ]
  },
  {
   "cell_type": "markdown",
   "id": "d440113c-20cc-408b-b66b-d773a9e556ed",
   "metadata": {},
   "source": [
    "The output reveals the locations of all buildings in the dataset. We can make apart different neighborhoods in the Palisades and see that the latitude line is 34 degrees and longitude line is around 118 degrees. "
   ]
  }
 ],
 "metadata": {
  "kernelspec": {
   "display_name": "Python 3 (ipykernel)",
   "language": "python",
   "name": "python3"
  },
  "language_info": {
   "codemirror_mode": {
    "name": "ipython",
    "version": 3
   },
   "file_extension": ".py",
   "mimetype": "text/x-python",
   "name": "python",
   "nbconvert_exporter": "python",
   "pygments_lexer": "ipython3",
   "version": "3.11.9"
  }
 },
 "nbformat": 4,
 "nbformat_minor": 5
}
